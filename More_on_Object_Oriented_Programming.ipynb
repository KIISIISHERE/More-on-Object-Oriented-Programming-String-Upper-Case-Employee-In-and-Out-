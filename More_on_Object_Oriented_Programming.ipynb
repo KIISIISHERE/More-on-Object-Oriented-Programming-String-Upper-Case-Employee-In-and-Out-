{
  "nbformat": 4,
  "nbformat_minor": 0,
  "metadata": {
    "colab": {
      "provenance": [],
      "authorship_tag": "ABX9TyNrAB8NCcO0ZLBxISmnvCR6",
      "include_colab_link": true
    },
    "kernelspec": {
      "name": "python3",
      "display_name": "Python 3"
    },
    "language_info": {
      "name": "python"
    }
  },
  "cells": [
    {
      "cell_type": "markdown",
      "metadata": {
        "id": "view-in-github",
        "colab_type": "text"
      },
      "source": [
        "<a href=\"https://colab.research.google.com/github/KIISIISHERE/More-on-Object-Oriented-Programming-String-Upper-Case-Employee-In-and-Out-/blob/main/More_on_Object_Oriented_Programming.ipynb\" target=\"_parent\"><img src=\"https://colab.research.google.com/assets/colab-badge.svg\" alt=\"Open In Colab\"/></a>"
      ]
    },
    {
      "cell_type": "code",
      "execution_count": 5,
      "metadata": {
        "colab": {
          "base_uri": "https://localhost:8080/"
        },
        "id": "IfWOzKmVxvl0",
        "outputId": "2526ff66-45a9-4a09-9170-cd7a501a7fc2"
      },
      "outputs": [
        {
          "output_type": "stream",
          "name": "stdout",
          "text": [
            "Please enter a string: Please Feranmi is now Nerdy Rat!\n",
            "The string in uppercase is: PLEASE FERANMI IS NOW NERDY RAT!\n"
          ]
        }
      ],
      "source": [
        "# Activity 1 : String Upper Case\n",
        "class IOString:\n",
        "    def __init__(self):\n",
        "        self.str1 = \"default string\"\n",
        "    def get_string(self):\n",
        "        self.str1 = input(\"Please enter a string: \")\n",
        "    def print_uppercase(self):\n",
        "        print(\"The string in uppercase is:\", self.str1.upper())\n",
        "my_string = IOString()\n",
        "my_string.get_string()\n",
        "my_string.print_uppercase()"
      ]
    }
  ]
}