{
  "nbformat": 4,
  "nbformat_minor": 0,
  "metadata": {
    "colab": {
      "provenance": [],
      "authorship_tag": "ABX9TyOr7iXy4Z6MxfOqKOWWBIl7",
      "include_colab_link": true
    },
    "kernelspec": {
      "name": "python3",
      "display_name": "Python 3"
    },
    "language_info": {
      "name": "python"
    }
  },
  "cells": [
    {
      "cell_type": "markdown",
      "metadata": {
        "id": "view-in-github",
        "colab_type": "text"
      },
      "source": [
        "<a href=\"https://colab.research.google.com/github/KIISIISHERE/More-on-Object-Oriented-Programming-String-Upper-Case-Employee-In-and-Out-/blob/main/More_on_Object_Oriented_Programming.ipynb\" target=\"_parent\"><img src=\"https://colab.research.google.com/assets/colab-badge.svg\" alt=\"Open In Colab\"/></a>"
      ]
    },
    {
      "cell_type": "code",
      "execution_count": 5,
      "metadata": {
        "colab": {
          "base_uri": "https://localhost:8080/"
        },
        "collapsed": true,
        "id": "IfWOzKmVxvl0",
        "outputId": "2526ff66-45a9-4a09-9170-cd7a501a7fc2"
      },
      "outputs": [
        {
          "output_type": "stream",
          "name": "stdout",
          "text": [
            "Please enter a string: Please Feranmi is now Nerdy Rat!\n",
            "The string in uppercase is: PLEASE FERANMI IS NOW NERDY RAT!\n"
          ]
        }
      ],
      "source": [
        "# Activity 1 : String Upper Case\n",
        "class IOString:\n",
        "    def __init__(self):\n",
        "        self.str1 = \"default string\"\n",
        "    def get_string(self):\n",
        "        self.str1 = input(\"Please enter a string: \")\n",
        "    def print_uppercase(self):\n",
        "        print(\"The string in uppercase is:\", self.str1.upper())\n",
        "my_string = IOString()\n",
        "my_string.get_string()\n",
        "my_string.print_uppercase()"
      ]
    },
    {
      "cell_type": "code",
      "source": [
        "from os import name\n",
        "# Activity 2 : Employee In and Out\n",
        "class Employee:\n",
        "    def __init__(self, name, emp_id, department, salary):\n",
        "        self.name = name\n",
        "        self.emp_id = emp_id\n",
        "        self.department = department\n",
        "        self.salary = salary\n",
        "        print(f\"Employee object for {self.name} created.\")\n",
        "        print(\"Employee Details:\")\n",
        "        print(f\"Name: {self.name}\")\n",
        "        print(f\"ID: {self.emp_id}\")\n",
        "        print(f\"Department: {self.department}\")\n",
        "        print(f\"Salary: {self.salary}\")\n",
        "    def __del__(self):\n",
        "      print(f\"Employee object for {self.name} deleted.\")\n",
        "def create_and_delete_employee():\n",
        "      name = input(\"Enter employee name: \")\n",
        "      emp_id = input(\"Enter employee ID: \")\n",
        "      department = input(\"Enter employee department: \")\n",
        "      salary = input(\"Enter salary: \")\n",
        "      emp = Employee(name, emp_id, department, salary)\n",
        "      del emp\n",
        "create_and_delete_employee()\n"
      ],
      "metadata": {
        "colab": {
          "base_uri": "https://localhost:8080/"
        },
        "collapsed": true,
        "id": "FqWGj1m-0Eft",
        "outputId": "2f46e450-8bf7-4d6f-8a47-0de750edc2f8"
      },
      "execution_count": 7,
      "outputs": [
        {
          "output_type": "stream",
          "name": "stdout",
          "text": [
            "Enter employee name: Iteoluwakiisi Aderiye\n",
            "Enter employee ID: 0420\n",
            "Enter employee department: 10\n",
            "Enter salary: 1000000\n",
            "Employee object for Iteoluwakiisi Aderiye created.\n",
            "Employee Details:\n",
            "Name: Iteoluwakiisi Aderiye\n",
            "ID: 0420\n",
            "`\\`Department: 10\n",
            "Salary: 1000000\n",
            "Employee object for Iteoluwakiisi Aderiye deleted.\n"
          ]
        }
      ]
    },
    {
      "cell_type": "code",
      "source": [
        "# Activity 3 : Pair of Elements\n",
        "class TupleSumFinder:\n",
        "    def __init__(self, data):\n",
        "        self.data = data\n",
        "    def find_sum_indices(self, target_sum):\n",
        "        for i in range(len(self.data)):\n",
        "            for j in range(i + 1, len(self.data)):\n",
        "                if self.data[i] + self.data[j] == target_sum:\n",
        "                    return (i, j)\n",
        "        return None\n",
        "data_tuple = (10, 20, 30, 40, 50, 60, 70)\n",
        "target = int(input(\"Enter the target sum: \"))\n",
        "finder = TupleSumFinder(data_tuple)\n",
        "result = finder.find_sum_indices(target)\n",
        "if result:\n",
        "    print(f\"Indices of elements that add up to {target}: {result}\")\n",
        "else:\n",
        "    print(f\"No elements found in the tuple that add up to {target}.\")\n"
      ],
      "metadata": {
        "id": "KI9AyfeR3ZEI"
      },
      "execution_count": null,
      "outputs": []
    }
  ]
}